{
  "nbformat": 4,
  "nbformat_minor": 0,
  "metadata": {
    "colab": {
      "name": "Untitled5.ipynb",
      "provenance": []
    },
    "kernelspec": {
      "name": "python3",
      "display_name": "Python 3"
    }
  },
  "cells": [
    {
      "cell_type": "code",
      "metadata": {
        "id": "zN0Y0mmXUZUz",
        "colab_type": "code",
        "colab": {}
      },
      "source": [
        "import numpy as np\n",
        "import pandas as pd\n",
        "def  a_test():\n",
        "      return P ** 6 + (1-P) **6 \n",
        "P = np.array ([0, 0.05, 0.10, 0.20, 0.30, 0.40 , 0.50, 0.60 , 0.70, 0.80 , 0.90, 0.95, 1.00])\n",
        "x = [1]\n",
        "B = y = x - a_test()\n",
        "df= pd.DataFrame({\"P\":P,\n",
        "                  \"B\":B} ,)\n",
        "df[\"1-B\"] = 1 - B\n",
        "df\n",
        "\n",
        "# \n",
        "\"\"\"\n",
        "result\n",
        "\tP\tB\t1-B\n",
        "0\t0.00\t0.000000\t1.000000\n",
        "1\t0.05\t0.264908\t0.735092\n",
        "2\t0.10\t0.468558\t0.531442\n",
        "3\t0.20\t0.737792\t0.262208\n",
        "4\t0.30\t0.881622\t0.118378\n",
        "5\t0.40\t0.949248\t0.050752\n",
        "6\t0.50\t0.968750\t0.031250\n",
        "7\t0.60\t0.949248\t0.050752\n",
        "8\t0.70\t0.881622\t0.118378\n",
        "9\t0.80\t0.737792\t0.262208\n",
        "10\t0.90\t0.468558\t0.531442\n",
        "11\t0.95\t0.264908\t0.735092\n",
        "12\t1.00\t0.000000\t1.000000\n",
        "\"\"\""
      ],
      "execution_count": 0,
      "outputs": []
    }
  ]
}